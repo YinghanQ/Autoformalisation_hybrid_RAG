{
 "cells": [
  {
   "cell_type": "code",
   "execution_count": null,
   "id": "734cb243-c745-4791-9bf6-7b6d1d33dd40",
   "metadata": {},
   "outputs": [
    {
     "name": "stdout",
     "output_type": "stream",
     "text": [
      "test\n"
     ]
    }
   ],
   "source": [
    "!python ./multi_relational_training.py --model poincare --dataset cpae --num_iterations 1 --nneg 50 --batch_size 1024 --lr 50 --dim 10\n"
   ]
  },
  {
   "cell_type": "code",
   "execution_count": null,
   "id": "cfc44ce6-a6b7-416c-98e8-4ee020ac2b5f",
   "metadata": {},
   "outputs": [],
   "source": []
  }
 ],
 "metadata": {
  "kernelspec": {
   "display_name": "Python 3 (ipykernel)",
   "language": "python",
   "name": "python3"
  },
  "language_info": {
   "codemirror_mode": {
    "name": "ipython",
    "version": 3
   },
   "file_extension": ".py",
   "mimetype": "text/x-python",
   "name": "python",
   "nbconvert_exporter": "python",
   "pygments_lexer": "ipython3",
   "version": "3.12.3"
  }
 },
 "nbformat": 4,
 "nbformat_minor": 5
}
