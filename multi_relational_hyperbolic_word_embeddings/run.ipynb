{
 "cells": [
  {
   "cell_type": "code",
   "execution_count": null,
   "id": "734cb243-c745-4791-9bf6-7b6d1d33dd40",
   "metadata": {},
   "outputs": [],
   "source": [
    "!python ./multi_relational_training.py --model poincare --dataset my_dataset_cleaned --num_iterations 300 --nneg 50 --batch_size 128 --lr 50 --dim 300"
   ]
  }
 ],
 "metadata": {
  "kernelspec": {
   "display_name": "Python (myenv)",
   "language": "python",
   "name": "base"
  },
  "language_info": {
   "codemirror_mode": {
    "name": "ipython",
    "version": 3
   },
   "file_extension": ".py",
   "mimetype": "text/x-python",
   "name": "python",
   "nbconvert_exporter": "python",
   "pygments_lexer": "ipython3",
   "version": "3.12.2"
  }
 },
 "nbformat": 4,
 "nbformat_minor": 5
}
